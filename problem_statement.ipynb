{
 "cells": [
  {
   "cell_type": "markdown",
   "id": "ac4c3853",
   "metadata": {},
   "source": [
    "### Problem Statement"
   ]
  },
  {
   "cell_type": "markdown",
   "id": "5d2cafcd",
   "metadata": {},
   "source": [
    "NovaNews Media is a private broadcasting company, and they planned to air a special program on the Lok Sabha Elections 2024 in India. Unlike other networks that focus on debates about who might win, NovaNews wanted to provide data-driven insights from the 2014 and 2019 elections, ensuring a neutral and unbiased approach. Their aim was to highlight less-discussed themes such as voter turnout trends in India.\n",
    "\n",
    "Arjun Verma, a data analyst at the company, was assigned the responsibility of extracting meaningful insights from the election datasets. Considering the sensitivity of the topic, he collaborated with his manager, Meera Iyer, who provided him with a structured list of primary and secondary questions to guide the analysis."
   ]
  }
 ],
 "metadata": {
  "language_info": {
   "name": "python"
  }
 },
 "nbformat": 4,
 "nbformat_minor": 5
}
